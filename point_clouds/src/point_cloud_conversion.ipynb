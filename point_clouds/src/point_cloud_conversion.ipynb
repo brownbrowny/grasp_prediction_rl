{
 "cells": [
  {
   "cell_type": "code",
   "execution_count": 1,
   "metadata": {},
   "outputs": [
    {
     "name": "stdout",
     "output_type": "stream",
     "text": [
      "Jupyter environment detected. Enabling Open3D WebVisualizer.\n",
      "[Open3D INFO] WebRTC GUI backend enabled.\n",
      "[Open3D INFO] WebRTCWindowSystem: HTTP handshake server disabled.\n"
     ]
    }
   ],
   "source": [
    "import open3d as o3d\n",
    "import numpy as np\n",
    "import open3d.visualization as vis"
   ]
  },
  {
   "cell_type": "markdown",
   "metadata": {},
   "source": [
    "### Load the original mesh (150 Mb), convert it into a point cloud, then save as numpy array"
   ]
  },
  {
   "cell_type": "code",
   "execution_count": 82,
   "metadata": {},
   "outputs": [
    {
     "name": "stdout",
     "output_type": "stream",
     "text": [
      "TriangleMesh with 6325486 points and 2110464 triangles.\n"
     ]
    }
   ],
   "source": [
    "mesh_path = \"obj_files/box_with_texture_aligned.obj\"\n",
    "\n",
    "mesh = o3d.io.read_triangle_mesh(mesh_path)\n",
    "mesh.compute_vertex_normals()\n",
    "\n",
    "print(mesh)"
   ]
  },
  {
   "cell_type": "markdown",
   "metadata": {},
   "source": [
    "### This mesh will be downsampled to exactly 4096 with different methods which are then compared "
   ]
  },
  {
   "cell_type": "markdown",
   "metadata": {},
   "source": [
    "##### 1. Downsample mesh using uniform sampling --> uniformly samples points from the surface triangles"
   ]
  },
  {
   "cell_type": "code",
   "execution_count": 29,
   "metadata": {},
   "outputs": [],
   "source": [
    "pcd = mesh.sample_points_uniformly(number_of_points=4096)\n",
    "o3d.visualization.draw_geometries([pcd])"
   ]
  },
  {
   "cell_type": "markdown",
   "metadata": {},
   "source": [
    "The result looks fine although many points just represent bare surface points and important corners or edges are not really emphasized. Also the method may yield clusters on the surface. To avoid these Poisson disk sampling can be used."
   ]
  },
  {
   "cell_type": "markdown",
   "metadata": {},
   "source": [
    "### 2. Downsample mesh using Poisson Disk Sampling\n",
    "distributes the point on the points evenly on the surface"
   ]
  },
  {
   "cell_type": "code",
   "execution_count": 28,
   "metadata": {},
   "outputs": [],
   "source": [
    "pcd = mesh.sample_points_poisson_disk(number_of_points=4096, init_factor=5)\n",
    "o3d.visualization.draw_geometries([pcd])"
   ]
  },
  {
   "cell_type": "markdown",
   "metadata": {},
   "source": [
    "The result definitely has more evenly distributes than before but corners and edges are still not emphasiszed."
   ]
  },
  {
   "cell_type": "markdown",
   "metadata": {},
   "source": [
    "### As sampling may not yield the besult results regarding the requirement, instead mesh simplification methods will be tried. The result will still be a mesh but can then be simply converted into a point cloud\n",
    "### 3. The first one being vertex clustering: vertices which fall into a voxel of a given size are treated as one vertice which is computed e.g. by averaging\n"
   ]
  },
  {
   "cell_type": "code",
   "execution_count": 20,
   "metadata": {},
   "outputs": [
    {
     "name": "stdout",
     "output_type": "stream",
     "text": [
      "Input mesh has 6325486 vertices and 2110464 triangles\n"
     ]
    }
   ],
   "source": [
    "print(\n",
    "    f'Input mesh has {len(mesh.vertices)} vertices and {len(mesh.triangles)} triangles'\n",
    ")"
   ]
  },
  {
   "cell_type": "code",
   "execution_count": 42,
   "metadata": {},
   "outputs": [
    {
     "name": "stdout",
     "output_type": "stream",
     "text": [
      "voxel_size = 4.870375e-03\n",
      "\u001b[1;33m[Open3D WARNING] [SimplifyVertexClustering] This mesh contains triangle uvs that are not handled in this function\u001b[0;m\n",
      "Simplified mesh has 3226 vertices and 6642 triangles\n"
     ]
    }
   ],
   "source": [
    "voxel_size = max(mesh.get_max_bound() - mesh.get_min_bound()) / 32\n",
    "print(f'voxel_size = {voxel_size:e}')\n",
    "mesh = mesh.simplify_vertex_clustering(\n",
    "    voxel_size=voxel_size,\n",
    "    contraction=o3d.geometry.SimplificationContraction.Average)\n",
    "print(\n",
    "    f'Simplified mesh has {len(mesh.vertices)} vertices and {len(mesh.triangles)} triangles'\n",
    ")\n",
    "\n",
    "# Simplify the mesh with a different contraction method --> quadratic error minimized the distance to the adjacent triange planes\n",
    "mesh_q = mesh.simplify_vertex_clustering(\n",
    "    voxel_size=voxel_size,\n",
    "    contraction=o3d.geometry.SimplificationContraction.Quadric)\n",
    "\n",
    "# convert mesh to point cloud and visualize without sampling\n",
    "point_cloud = o3d.geometry.PointCloud()\n",
    "point_cloud.points = mesh.vertices\n",
    "\n",
    "# convert mesh to point cloud and visualize without sampling\n",
    "point_cloud_q = o3d.geometry.PointCloud()\n",
    "point_cloud_q.points = mesh.vertices\n",
    "\n",
    "\n",
    "# put the original mesh and the simplified mesh in the same window but seperate by 10 cm\n",
    "point_cloud_q.translate(np.array([0, 0, -0.1]))\n",
    "\n",
    "o3d.visualization.draw_geometries([point_cloud, point_cloud_q])"
   ]
  },
  {
   "cell_type": "markdown",
   "metadata": {},
   "source": [
    "The result has perfectly distributed points and also the corners are well visible "
   ]
  },
  {
   "cell_type": "code",
   "execution_count": 34,
   "metadata": {},
   "outputs": [
    {
     "name": "stdout",
     "output_type": "stream",
     "text": [
      "PointCloud converted to numpy array:\n",
      "(6325486, 3)\n",
      "[[-0.007254 -0.045732 -0.001409]\n",
      " [-0.007352 -0.045725 -0.001605]\n",
      " [-0.007089 -0.045722 -0.001752]\n",
      " [-0.007089 -0.045722 -0.001752]\n",
      " [-0.006969 -0.045728 -0.001512]\n",
      " [-0.007254 -0.045732 -0.001409]\n",
      " [-0.007196 -0.045735 -0.001294]\n",
      " [-0.007254 -0.045732 -0.001409]\n",
      " [-0.006969 -0.045728 -0.001512]\n",
      " [-0.006969 -0.045728 -0.001512]]\n"
     ]
    }
   ],
   "source": [
    "# convert to point cloud and numpy array\n",
    "point_cloud = o3d.geometry.PointCloud()\n",
    "point_cloud.points = mesh.vertices\n",
    "\n",
    "point_cloud_np = np.asarray(point_cloud.points)\n",
    "print(\"PointCloud converted to numpy array:\")\n",
    "print(point_cloud_np.shape)\n",
    "\n",
    "# print first 10 points\n",
    "print(point_cloud_np[:10])\n",
    "\n",
    "# save numpy array to file\n",
    "np.save(\"point_clouds/point_cloud.npy\", point_cloud_np)"
   ]
  },
  {
   "cell_type": "markdown",
   "metadata": {},
   "source": [
    "### Load the numpy array, convert to point cloud and visualize it"
   ]
  },
  {
   "cell_type": "code",
   "execution_count": 17,
   "metadata": {},
   "outputs": [],
   "source": [
    "# load the numpy array\n",
    "point_cloud_np = np.load(\"point_clouds/point_cloud.npy\")\n",
    "\n",
    "# convert to open3d point cloud\n",
    "point_cloud = o3d.geometry.PointCloud()\n",
    "point_cloud.points = o3d.utility.Vector3dVector(point_cloud_np)\n",
    "\n",
    "# visualize the point cloud\n",
    "vis.draw_geometries([point_cloud])"
   ]
  },
  {
   "cell_type": "code",
   "execution_count": 83,
   "metadata": {},
   "outputs": [
    {
     "name": "stdout",
     "output_type": "stream",
     "text": [
      "Neighbors of vertex 0:\n",
      "[-0.00840003 -0.99940341 -0.03350011]\n",
      "[ 0.82753637 -0.54152378 -0.14810652]\n",
      "[-0.00840003 -0.99940341 -0.03350011]\n"
     ]
    },
    {
     "name": "stderr",
     "output_type": "stream",
     "text": [
      "/tmp/ipykernel_23745/3951133516.py:17: RuntimeWarning: invalid value encountered in arccos\n",
      "  angle_2 = np.arccos(np.dot(mesh.vertex_normals[i+1], mesh.vertex_normals[i]))\n",
      "/tmp/ipykernel_23745/3951133516.py:16: RuntimeWarning: invalid value encountered in arccos\n",
      "  angle_1 = np.arccos(np.dot(mesh.vertex_normals[i-1], mesh.vertex_normals[i]))\n"
     ]
    },
    {
     "ename": "KeyboardInterrupt",
     "evalue": "",
     "output_type": "error",
     "traceback": [
      "\u001b[0;31m---------------------------------------------------------------------------\u001b[0m",
      "\u001b[0;31mKeyboardInterrupt\u001b[0m                         Traceback (most recent call last)",
      "Cell \u001b[0;32mIn[83], line 16\u001b[0m\n\u001b[1;32m     14\u001b[0m \u001b[38;5;28;01mfor\u001b[39;00m i \u001b[38;5;129;01min\u001b[39;00m \u001b[38;5;28mrange\u001b[39m(\u001b[38;5;28mlen\u001b[39m(mesh\u001b[38;5;241m.\u001b[39mvertex_normals)):\n\u001b[1;32m     15\u001b[0m     \u001b[38;5;28;01mif\u001b[39;00m i\u001b[38;5;241m+\u001b[39m\u001b[38;5;241m1\u001b[39m \u001b[38;5;241m<\u001b[39m \u001b[38;5;28mlen\u001b[39m(mesh\u001b[38;5;241m.\u001b[39mvertex_normals):\n\u001b[0;32m---> 16\u001b[0m         angle_1 \u001b[38;5;241m=\u001b[39m np\u001b[38;5;241m.\u001b[39marccos(np\u001b[38;5;241m.\u001b[39mdot(\u001b[43mmesh\u001b[49m\u001b[38;5;241;43m.\u001b[39;49m\u001b[43mvertex_normals\u001b[49m\u001b[43m[\u001b[49m\u001b[43mi\u001b[49m\u001b[38;5;241;43m-\u001b[39;49m\u001b[38;5;241;43m1\u001b[39;49m\u001b[43m]\u001b[49m, mesh\u001b[38;5;241m.\u001b[39mvertex_normals[i]))\n\u001b[1;32m     17\u001b[0m         angle_2 \u001b[38;5;241m=\u001b[39m np\u001b[38;5;241m.\u001b[39marccos(np\u001b[38;5;241m.\u001b[39mdot(mesh\u001b[38;5;241m.\u001b[39mvertex_normals[i\u001b[38;5;241m+\u001b[39m\u001b[38;5;241m1\u001b[39m], mesh\u001b[38;5;241m.\u001b[39mvertex_normals[i]))\n\u001b[1;32m     18\u001b[0m         \u001b[38;5;66;03m# save the bigger angle\u001b[39;00m\n",
      "\u001b[0;31mKeyboardInterrupt\u001b[0m: "
     ]
    }
   ],
   "source": [
    "# compute normals of original mesh\n",
    "mesh.compute_vertex_normals()\n",
    "mesh.compute_triangle_normals()\n",
    "\n",
    "# iterate over all vertices and print the neighbors of the first vertex\n",
    "vertex_id = 0\n",
    "print(f\"Neighbors of vertex {vertex_id}:\")\n",
    "print(mesh.vertex_normals[vertex_id])\n",
    "print(mesh.vertex_normals[vertex_id-1])\n",
    "print(mesh.vertex_normals[vertex_id+1])\n",
    "\n",
    "angles = np.zeros(len(mesh.vertex_normals))\n",
    "\n",
    "for i in range(len(mesh.vertex_normals)):\n",
    "    if i+1 < len(mesh.vertex_normals):\n",
    "        angle_1 = np.abs(np.arccos(np.dot(mesh.vertex_normals[i-1], mesh.vertex_normals[i])))\n",
    "        angle_2 = np.abs(np.arccos(np.dot(mesh.vertex_normals[i+1], mesh.vertex_normals[i])))\n",
    "        # save the bigger angle\n",
    "        angles[i] = max(angle_1, angle_2)\n",
    "        \n",
    "print(angles.shape)"
   ]
  },
  {
   "cell_type": "code",
   "execution_count": 92,
   "metadata": {},
   "outputs": [
    {
     "name": "stdout",
     "output_type": "stream",
     "text": [
      "(6325486,)\n"
     ]
    }
   ],
   "source": [
    "# Assuming 'mesh' is already defined and is a valid mesh object\n",
    "mesh.compute_vertex_normals()\n",
    "\n",
    "# No need to explicitly compute and print neighbors for efficiency in this context\n",
    "\n",
    "# Precompute the cosines for all normal pairs to avoid redundant trigonometric calculations\n",
    "cosines = np.einsum('ij,ij->i', mesh.vertex_normals[:-1], mesh.vertex_normals[1:])\n",
    "# Compute angles using arccos, note that we clip values to be within the valid domain of arccos\n",
    "angles = np.arccos(np.clip(cosines, -1.0, 1.0))\n",
    "\n",
    "# Initialize an array to store the maximum angle for each vertex\n",
    "max_angles = np.zeros(len(mesh.vertex_normals))\n",
    "\n",
    "# For the interior vertices, compare adjacent angles and take the maximum\n",
    "max_angles[1:-1] = np.maximum(angles[:-1], angles[1:])\n",
    "\n",
    "# For the boundary vertices, we only consider one neighbor\n",
    "max_angles[0] = angles[0]\n",
    "max_angles[-1] = angles[-1]\n",
    "\n",
    "print(max_angles.shape)"
   ]
  },
  {
   "cell_type": "code",
   "execution_count": 106,
   "metadata": {},
   "outputs": [
    {
     "name": "stdout",
     "output_type": "stream",
     "text": [
      "Keeping 4071931 vertices out of 6325486\n"
     ]
    }
   ],
   "source": [
    "# keep all vertices with an angle bigger than 30 degrees\n",
    "threshold = np.deg2rad(0.1)\n",
    "vertices_to_keep = np.where(max_angles > threshold)[0]\n",
    "\n",
    "print(f\"Keeping {len(vertices_to_keep)} vertices out of {len(mesh.vertices)}\")"
   ]
  },
  {
   "cell_type": "code",
   "execution_count": 107,
   "metadata": {},
   "outputs": [
    {
     "ename": "KeyboardInterrupt",
     "evalue": "",
     "output_type": "error",
     "traceback": [
      "\u001b[0;31m---------------------------------------------------------------------------\u001b[0m",
      "\u001b[0;31mKeyboardInterrupt\u001b[0m                         Traceback (most recent call last)",
      "Cell \u001b[0;32mIn[107], line 24\u001b[0m\n\u001b[1;32m     20\u001b[0m mesh_filtered\u001b[38;5;241m.\u001b[39mcompute_vertex_normals()  \u001b[38;5;66;03m# Recalculate normals for the new mesh\u001b[39;00m\n\u001b[1;32m     23\u001b[0m \u001b[38;5;66;03m# visualize the filtered mesh\u001b[39;00m\n\u001b[0;32m---> 24\u001b[0m \u001b[43mo3d\u001b[49m\u001b[38;5;241;43m.\u001b[39;49m\u001b[43mvisualization\u001b[49m\u001b[38;5;241;43m.\u001b[39;49m\u001b[43mdraw_geometries\u001b[49m\u001b[43m(\u001b[49m\u001b[43m[\u001b[49m\u001b[43mmesh_filtered\u001b[49m\u001b[43m]\u001b[49m\u001b[43m)\u001b[49m\n",
      "\u001b[0;31mKeyboardInterrupt\u001b[0m: "
     ]
    }
   ],
   "source": [
    "\n",
    "# # create a new mesh with only the vertices that have an angle bigger than 60 degrees\n",
    "# mesh_filtered = mesh.select_by_index(vertices_to_keep)\n",
    "\n",
    "# Placeholder for the new faces list\n",
    "new_faces = []\n",
    "\n",
    "# Mapping from old vertex indices to new indices\n",
    "old_to_new_indices = {old_idx: new_idx for new_idx, old_idx in enumerate(vertices_to_keep)}\n",
    "\n",
    "for face in mesh.triangles:\n",
    "    # Check if all vertices of the face should be kept\n",
    "    if all(vertex in vertices_to_keep for vertex in face):\n",
    "        # If so, add the face with updated vertex indices to the new faces list\n",
    "        new_faces.append([old_to_new_indices[vertex] for vertex in face])\n",
    "\n",
    "# Create a new mesh with the filtered vertices and faces\n",
    "mesh_filtered = o3d.geometry.TriangleMesh()\n",
    "mesh_filtered.vertices = o3d.utility.Vector3dVector(np.asarray(mesh.vertices)[vertices_to_keep])\n",
    "mesh_filtered.triangles = o3d.utility.Vector3iVector(new_faces)\n",
    "mesh_filtered.compute_vertex_normals()  # Recalculate normals for the new mesh\n",
    "\n",
    "\n",
    "# visualize the filtered mesh\n",
    "o3d.visualization.draw_geometries([mesh_filtered])"
   ]
  },
  {
   "cell_type": "code",
   "execution_count": 105,
   "metadata": {},
   "outputs": [],
   "source": [
    "# convert the filtered mesh to a point cloud\n",
    "point_cloud = o3d.geometry.PointCloud()\n",
    "point_cloud.points = mesh_filtered.vertices\n",
    "\n",
    "# visualize the point cloud\n",
    "o3d.visualization.draw_geometries([point_cloud])"
   ]
  },
  {
   "cell_type": "code",
   "execution_count": 17,
   "metadata": {},
   "outputs": [
    {
     "name": "stdout",
     "output_type": "stream",
     "text": [
      "(4096, 3)\n"
     ]
    }
   ],
   "source": [
    "# load numpy array from disk\n",
    "point_cloud_np = np.load(\"point_clouds/my_function_result.npy\")\n",
    "print(point_cloud_np.shape)\n",
    "\n",
    "# convert to point cloud and plot\n",
    "point_cloud = o3d.geometry.PointCloud()\n",
    "point_cloud.points = o3d.utility.Vector3dVector(point_cloud_np)\n",
    "o3d.visualization.draw_geometries([point_cloud])\n"
   ]
  },
  {
   "cell_type": "markdown",
   "metadata": {},
   "source": [
    "#### Normalize the point cloud"
   ]
  },
  {
   "cell_type": "code",
   "execution_count": 18,
   "metadata": {},
   "outputs": [
    {
     "name": "stdout",
     "output_type": "stream",
     "text": [
      "Largest x value: 0.07798146820495422\n",
      "Smallest x value: -0.07755728280417626\n",
      "Largest y value: 0.046481068120535284\n",
      "Smallest y value: -0.045768397148182906\n",
      "Largest z value: 0.04597732768171476\n",
      "Smallest z value: -0.04611275701219557\n"
     ]
    }
   ],
   "source": [
    "print(f\"Largest x value: {np.max(point_cloud_np[:, 0])}\")\n",
    "print(f\"Smallest x value: {np.min(point_cloud_np[:, 0])}\")\n",
    "\n",
    "print(f\"Largest y value: {np.max(point_cloud_np[:, 1])}\")\n",
    "print(f\"Smallest y value: {np.min(point_cloud_np[:, 1])}\")\n",
    "\n",
    "print(f\"Largest z value: {np.max(point_cloud_np[:, 2])}\")\n",
    "print(f\"Smallest z value: {np.min(point_cloud_np[:, 2])}\")"
   ]
  },
  {
   "cell_type": "code",
   "execution_count": 19,
   "metadata": {},
   "outputs": [
    {
     "name": "stdout",
     "output_type": "stream",
     "text": [
      "Centering Point Cloud around [ 0.00034515 -0.00016372  0.00057998]!\n",
      "Maximum distance from origin: 0.09872504121963158\n"
     ]
    }
   ],
   "source": [
    "# check if the points in x are centered, center it\n",
    "centroid_x = np.mean(point_cloud_np[:, 0])\n",
    "centroid_y = np.mean(point_cloud_np[:, 1])\n",
    "centroid_z = np.mean(point_cloud_np[:, 2])\n",
    "centroid = np.array([centroid_x, centroid_y, centroid_z])\n",
    "\n",
    "\n",
    "if not np.allclose(centroid, np.zeros(3), atol=1e-6):\n",
    "    print(f\"Centering Point Cloud around {centroid}!\")\n",
    "    new_point_cloud_np = point_cloud_np - centroid\n",
    "    \n",
    "# convert to point cloud and plot\n",
    "point_cloud = o3d.geometry.PointCloud()\n",
    "point_cloud.points = o3d.utility.Vector3dVector(new_point_cloud_np)\n",
    "o3d.visualization.draw_geometries([point_cloud])\n",
    "   \n",
    "\n",
    "\n",
    "# check if the point cloud is normalized\n",
    "norms = np.linalg.norm(new_point_cloud_np, axis=1)  # Calculate the Euclidean norm for each point\n",
    "max_distance = np.max(norms)\n",
    "print(f\"Maximum distance from origin: {max_distance}\")\n",
    "if not max_distance <= 1:\n",
    "    print(\"Normalizing Point Cloud!\")\n",
    "    new_point_cloud_np = new_point_cloud_np / max_distance\n",
    "    \n",
    "# convert to point cloud and plot\n",
    "point_cloud = o3d.geometry.PointCloud()\n",
    "point_cloud.points = o3d.utility.Vector3dVector(new_point_cloud_np)\n",
    "o3d.visualization.draw_geometries([point_cloud])"
   ]
  }
 ],
 "metadata": {
  "kernelspec": {
   "display_name": "pc_env",
   "language": "python",
   "name": "python3"
  },
  "language_info": {
   "codemirror_mode": {
    "name": "ipython",
    "version": 3
   },
   "file_extension": ".py",
   "mimetype": "text/x-python",
   "name": "python",
   "nbconvert_exporter": "python",
   "pygments_lexer": "ipython3",
   "version": "3.8.19"
  }
 },
 "nbformat": 4,
 "nbformat_minor": 2
}
